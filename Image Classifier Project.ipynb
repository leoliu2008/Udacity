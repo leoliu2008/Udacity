{
 "cells": [
  {
   "cell_type": "markdown",
   "metadata": {},
   "source": [
    "# Developing an AI application\n",
    "\n",
    "Going forward, AI algorithms will be incorporated into more and more everyday applications. For example, you might want to include an image classifier in a smart phone app. To do this, you'd use a deep learning model trained on hundreds of thousands of images as part of the overall application architecture. A large part of software development in the future will be using these types of models as common parts of applications. \n",
    "\n",
    "In this project, you'll train an image classifier to recognize different species of flowers. You can imagine using something like this in a phone app that tells you the name of the flower your camera is looking at. In practice you'd train this classifier, then export it for use in your application. We'll be using [this dataset](http://www.robots.ox.ac.uk/~vgg/data/flowers/102/index.html) of 102 flower categories, you can see a few examples below. \n",
    "\n",
    "<img src='assets/Flowers.png' width=500px>\n",
    "\n",
    "The project is broken down into multiple steps:\n",
    "\n",
    "* Load and preprocess the image dataset\n",
    "* Train the image classifier on your dataset\n",
    "* Use the trained classifier to predict image content\n",
    "\n",
    "We'll lead you through each part which you'll implement in Python.\n",
    "\n",
    "When you've completed this project, you'll have an application that can be trained on any set of labeled images. Here your network will be learning about flowers and end up as a command line application. But, what you do with your new skills depends on your imagination and effort in building a dataset. For example, imagine an app where you take a picture of a car, it tells you what the make and model is, then looks up information about it. Go build your own dataset and make something new.\n",
    "\n",
    "First up is importing the packages you'll need. It's good practice to keep all the imports at the beginning of your code. As you work through this notebook and find you need to import a package, make sure to add the import up here."
   ]
  },
  {
   "cell_type": "code",
   "execution_count": 1,
   "metadata": {},
   "outputs": [
    {
     "name": "stdout",
     "output_type": "stream",
     "text": [
      "Requirement already satisfied: helper in /opt/conda/lib/python3.6/site-packages (2.4.2)\r\n",
      "Requirement already satisfied: pyyaml in /opt/conda/lib/python3.6/site-packages (from helper) (3.12)\r\n"
     ]
    }
   ],
   "source": [
    "!pip install helper"
   ]
  },
  {
   "cell_type": "code",
   "execution_count": 2,
   "metadata": {},
   "outputs": [],
   "source": [
    "%matplotlib inline\n",
    "%config InlineBackend.figure_format = 'retina'\n",
    "\n",
    "import matplotlib.pyplot as plt\n",
    "\n",
    "import torch\n",
    "from torch import nn\n",
    "from torch import optim\n",
    "from torch.utils.data import DataLoader as DL\n",
    "\n",
    "import torch.nn.functional as F\n",
    "from torchvision import datasets, transforms, models\n",
    "\n",
    "import helper"
   ]
  },
  {
   "cell_type": "markdown",
   "metadata": {},
   "source": [
    "## Load the data\n",
    "\n",
    "Here you'll use `torchvision` to load the data ([documentation](http://pytorch.org/docs/0.3.0/torchvision/index.html)). The data should be included alongside this notebook, otherwise you can [download it here](https://s3.amazonaws.com/content.udacity-data.com/nd089/flower_data.tar.gz). The dataset is split into three parts, training, validation, and testing. For the training, you'll want to apply transformations such as random scaling, cropping, and flipping. This will help the network generalize leading to better performance. You'll also need to make sure the input data is resized to 224x224 pixels as required by the pre-trained networks.\n",
    "\n",
    "The validation and testing sets are used to measure the model's performance on data it hasn't seen yet. For this you don't want any scaling or rotation transformations, but you'll need to resize then crop the images to the appropriate size.\n",
    "\n",
    "The pre-trained networks you'll use were trained on the ImageNet dataset where each color channel was normalized separately. For all three sets you'll need to normalize the means and standard deviations of the images to what the network expects. For the means, it's `[0.485, 0.456, 0.406]` and for the standard deviations `[0.229, 0.224, 0.225]`, calculated from the ImageNet images.  These values will shift each color channel to be centered at 0 and range from -1 to 1.\n",
    " "
   ]
  },
  {
   "cell_type": "code",
   "execution_count": 3,
   "metadata": {},
   "outputs": [],
   "source": [
    "data_dir = 'flowers'\n",
    "train_dir = data_dir + '/train'\n",
    "valid_dir = data_dir + '/valid'\n",
    "test_dir = data_dir + '/test'"
   ]
  },
  {
   "cell_type": "code",
   "execution_count": 4,
   "metadata": {},
   "outputs": [],
   "source": [
    "# TODO: Define your transforms for the training, validation, and testing sets\n",
    "training_transforms = transforms.Compose([transforms.RandomRotation(45),\n",
    "                                     transforms.RandomResizedCrop(224),\n",
    "                                     transforms.RandomHorizontalFlip(),\n",
    "                                     transforms.RandomVerticalFlip(),\n",
    "                                     transforms.ToTensor(),\n",
    "                                     transforms.Normalize([0.485,0.456,0.406],\n",
    "                                                        [0.229,0.224,0.225])])\n",
    "\n",
    "validaiton_transforms = transforms.Compose([transforms.Resize(255),\n",
    "                                     transforms.CenterCrop(224),\n",
    "                                     transforms.ToTensor(),\n",
    "                                     transforms.Normalize([0.485,0.456,0.406],\n",
    "                                                        [0.229,0.224,0.225])])\n",
    "\n",
    "\n",
    "testing_transforms = transforms.Compose([transforms.Resize(255),\n",
    "                                     transforms.CenterCrop(224),\n",
    "                                     transforms.ToTensor(),\n",
    "                                     transforms.Normalize([0.485,0.456,0.406],\n",
    "                                                        [0.229,0.224,0.225])])"
   ]
  },
  {
   "cell_type": "code",
   "execution_count": 5,
   "metadata": {},
   "outputs": [],
   "source": [
    "# TODO: Load the datasets with ImageFolder\n",
    "train_data = datasets.ImageFolder(train_dir, transform=training_transforms)\n",
    "valid_data = datasets.ImageFolder(valid_dir, transform=validaiton_transforms)\n",
    "test_data = datasets.ImageFolder(test_dir, transform=testing_transforms)"
   ]
  },
  {
   "cell_type": "code",
   "execution_count": 6,
   "metadata": {},
   "outputs": [],
   "source": [
    "# TODO: Using the image datasets and the trainforms, define the dataloaders\n",
    "trainloaders = DL(train_data, batch_size=64, shuffle = True)\n",
    "validloaders = DL(valid_data, batch_size=64,shuffle = True)\n",
    "testloaders = DL(test_data, batch_size=64, shuffle = True)"
   ]
  },
  {
   "cell_type": "code",
   "execution_count": 7,
   "metadata": {},
   "outputs": [
    {
     "data": {
      "text/plain": [
       "torch.Size([3, 224, 224])"
      ]
     },
     "execution_count": 7,
     "metadata": {},
     "output_type": "execute_result"
    }
   ],
   "source": [
    "# try the picture\n",
    "\n",
    "images, labels=next(iter(trainloaders))\n",
    "images[0].shape\n",
    "# images[0,:]\n",
    "# helper.imshow(images[0,:]);"
   ]
  },
  {
   "cell_type": "markdown",
   "metadata": {},
   "source": [
    "### Label mapping\n",
    "\n",
    "You'll also need to load in a mapping from category label to category name. You can find this in the file `cat_to_name.json`. It's a JSON object which you can read in with the [`json` module](https://docs.python.org/2/library/json.html). This will give you a dictionary mapping the integer encoded categories to the actual names of the flowers."
   ]
  },
  {
   "cell_type": "code",
   "execution_count": 8,
   "metadata": {},
   "outputs": [],
   "source": [
    "import json\n",
    "\n",
    "with open('cat_to_name.json', 'r') as f:\n",
    "    cat_to_name = json.load(f)"
   ]
  },
  {
   "cell_type": "code",
   "execution_count": 9,
   "metadata": {},
   "outputs": [
    {
     "data": {
      "text/plain": [
       "102"
      ]
     },
     "execution_count": 9,
     "metadata": {},
     "output_type": "execute_result"
    }
   ],
   "source": [
    "len(cat_to_name)"
   ]
  },
  {
   "cell_type": "code",
   "execution_count": 10,
   "metadata": {},
   "outputs": [
    {
     "data": {
      "text/plain": [
       "{'21': 'fire lily',\n",
       " '3': 'canterbury bells',\n",
       " '45': 'bolero deep blue',\n",
       " '1': 'pink primrose',\n",
       " '34': 'mexican aster',\n",
       " '27': 'prince of wales feathers',\n",
       " '7': 'moon orchid',\n",
       " '16': 'globe-flower',\n",
       " '25': 'grape hyacinth',\n",
       " '26': 'corn poppy',\n",
       " '79': 'toad lily',\n",
       " '39': 'siam tulip',\n",
       " '24': 'red ginger',\n",
       " '67': 'spring crocus',\n",
       " '35': 'alpine sea holly',\n",
       " '32': 'garden phlox',\n",
       " '10': 'globe thistle',\n",
       " '6': 'tiger lily',\n",
       " '93': 'ball moss',\n",
       " '33': 'love in the mist',\n",
       " '9': 'monkshood',\n",
       " '102': 'blackberry lily',\n",
       " '14': 'spear thistle',\n",
       " '19': 'balloon flower',\n",
       " '100': 'blanket flower',\n",
       " '13': 'king protea',\n",
       " '49': 'oxeye daisy',\n",
       " '15': 'yellow iris',\n",
       " '61': 'cautleya spicata',\n",
       " '31': 'carnation',\n",
       " '64': 'silverbush',\n",
       " '68': 'bearded iris',\n",
       " '63': 'black-eyed susan',\n",
       " '69': 'windflower',\n",
       " '62': 'japanese anemone',\n",
       " '20': 'giant white arum lily',\n",
       " '38': 'great masterwort',\n",
       " '4': 'sweet pea',\n",
       " '86': 'tree mallow',\n",
       " '101': 'trumpet creeper',\n",
       " '42': 'daffodil',\n",
       " '22': 'pincushion flower',\n",
       " '2': 'hard-leaved pocket orchid',\n",
       " '54': 'sunflower',\n",
       " '66': 'osteospermum',\n",
       " '70': 'tree poppy',\n",
       " '85': 'desert-rose',\n",
       " '99': 'bromelia',\n",
       " '87': 'magnolia',\n",
       " '5': 'english marigold',\n",
       " '92': 'bee balm',\n",
       " '28': 'stemless gentian',\n",
       " '97': 'mallow',\n",
       " '57': 'gaura',\n",
       " '40': 'lenten rose',\n",
       " '47': 'marigold',\n",
       " '59': 'orange dahlia',\n",
       " '48': 'buttercup',\n",
       " '55': 'pelargonium',\n",
       " '36': 'ruby-lipped cattleya',\n",
       " '91': 'hippeastrum',\n",
       " '29': 'artichoke',\n",
       " '71': 'gazania',\n",
       " '90': 'canna lily',\n",
       " '18': 'peruvian lily',\n",
       " '98': 'mexican petunia',\n",
       " '8': 'bird of paradise',\n",
       " '30': 'sweet william',\n",
       " '17': 'purple coneflower',\n",
       " '52': 'wild pansy',\n",
       " '84': 'columbine',\n",
       " '12': \"colt's foot\",\n",
       " '11': 'snapdragon',\n",
       " '96': 'camellia',\n",
       " '23': 'fritillary',\n",
       " '50': 'common dandelion',\n",
       " '44': 'poinsettia',\n",
       " '53': 'primula',\n",
       " '72': 'azalea',\n",
       " '65': 'californian poppy',\n",
       " '80': 'anthurium',\n",
       " '76': 'morning glory',\n",
       " '37': 'cape flower',\n",
       " '56': 'bishop of llandaff',\n",
       " '60': 'pink-yellow dahlia',\n",
       " '82': 'clematis',\n",
       " '58': 'geranium',\n",
       " '75': 'thorn apple',\n",
       " '41': 'barbeton daisy',\n",
       " '95': 'bougainvillea',\n",
       " '43': 'sword lily',\n",
       " '83': 'hibiscus',\n",
       " '78': 'lotus lotus',\n",
       " '88': 'cyclamen',\n",
       " '94': 'foxglove',\n",
       " '81': 'frangipani',\n",
       " '74': 'rose',\n",
       " '89': 'watercress',\n",
       " '73': 'water lily',\n",
       " '46': 'wallflower',\n",
       " '77': 'passion flower',\n",
       " '51': 'petunia'}"
      ]
     },
     "execution_count": 10,
     "metadata": {},
     "output_type": "execute_result"
    }
   ],
   "source": [
    "cat_to_name"
   ]
  },
  {
   "cell_type": "code",
   "execution_count": 11,
   "metadata": {},
   "outputs": [
    {
     "data": {
      "text/plain": [
       "'21'"
      ]
     },
     "execution_count": 11,
     "metadata": {},
     "output_type": "execute_result"
    }
   ],
   "source": [
    "next(iter(cat_to_name))"
   ]
  },
  {
   "cell_type": "markdown",
   "metadata": {},
   "source": [
    "# Building and training the classifier\n",
    "\n",
    "Now that the data is ready, it's time to build and train the classifier. As usual, you should use one of the pretrained models from `torchvision.models` to get the image features. Build and train a new feed-forward classifier using those features.\n",
    "\n",
    "We're going to leave this part up to you. Refer to [the rubric](https://review.udacity.com/#!/rubrics/1663/view) for guidance on successfully completing this section. Things you'll need to do:\n",
    "\n",
    "* Load a [pre-trained network](http://pytorch.org/docs/master/torchvision/models.html) (If you need a starting point, the VGG networks work great and are straightforward to use)\n",
    "* Define a new, untrained feed-forward network as a classifier, using ReLU activations and dropout\n",
    "* Train the classifier layers using backpropagation using the pre-trained network to get the features\n",
    "* Track the loss and accuracy on the validation set to determine the best hyperparameters\n",
    "\n",
    "We've left a cell open for you below, but use as many as you need. Our advice is to break the problem up into smaller parts you can run separately. Check that each part is doing what you expect, then move on to the next. You'll likely find that as you work through each part, you'll need to go back and modify your previous code. This is totally normal!\n",
    "\n",
    "When training make sure you're updating only the weights of the feed-forward network. You should be able to get the validation accuracy above 70% if you build everything right. Make sure to try different hyperparameters (learning rate, units in the classifier, epochs, etc) to find the best model. Save those hyperparameters to use as default values in the next part of the project.\n",
    "\n",
    "One last important tip if you're using the workspace to run your code: To avoid having your workspace disconnect during the long-running tasks in this notebook, please read in the earlier page in this lesson called Intro to\n",
    "GPU Workspaces about Keeping Your Session Active. You'll want to include code from the workspace_utils.py module.\n",
    "\n",
    "**Note for Workspace users:** If your network is over 1 GB when saved as a checkpoint, there might be issues with saving backups in your workspace. Typically this happens with wide dense layers after the convolutional layers. If your saved checkpoint is larger than 1 GB (you can open a terminal and check with `ls -lh`), you should reduce the size of your hidden layers and train again."
   ]
  },
  {
   "cell_type": "code",
   "execution_count": 12,
   "metadata": {},
   "outputs": [],
   "source": [
    "# TODO: Build and train your network\n",
    "\n",
    "#Method #1 - define your own network architecture\n",
    "\n",
    "# class Classifier(nn.Module):\n",
    "#     def __init__(self):\n",
    "#         super().__init__()\n",
    "#         self.fc1 = nn.Linear(784, 256)\n",
    "#         self.fc2 = nn.Linear(256, 128)\n",
    "#         self.fc3 = nn.Linear(128, 64)\n",
    "#         self.fc4 = nn.Linear(64, 10)\n",
    "        \n",
    "#     def forward(self, x):\n",
    "#         x=x.view(x.shape[0], -1)\n",
    "        \n",
    "#         x=F.relu(self.fc1(x))\n",
    "#         x=F.relu(self.fc2(x))\n",
    "#         x=F.relu(self.fc3(x))\n",
    "#         x=F.log_softmax(self.fc4(x), dim=1)\n",
    "        \n",
    "#         return x       "
   ]
  },
  {
   "cell_type": "code",
   "execution_count": 13,
   "metadata": {},
   "outputs": [],
   "source": [
    "#Method #2 - load predefined network\n",
    "model =models.vgg16(pretrained=True)"
   ]
  },
  {
   "cell_type": "code",
   "execution_count": 14,
   "metadata": {},
   "outputs": [
    {
     "data": {
      "text/plain": [
       "VGG(\n",
       "  (features): Sequential(\n",
       "    (0): Conv2d(3, 64, kernel_size=(3, 3), stride=(1, 1), padding=(1, 1))\n",
       "    (1): ReLU(inplace)\n",
       "    (2): Conv2d(64, 64, kernel_size=(3, 3), stride=(1, 1), padding=(1, 1))\n",
       "    (3): ReLU(inplace)\n",
       "    (4): MaxPool2d(kernel_size=2, stride=2, padding=0, dilation=1, ceil_mode=False)\n",
       "    (5): Conv2d(64, 128, kernel_size=(3, 3), stride=(1, 1), padding=(1, 1))\n",
       "    (6): ReLU(inplace)\n",
       "    (7): Conv2d(128, 128, kernel_size=(3, 3), stride=(1, 1), padding=(1, 1))\n",
       "    (8): ReLU(inplace)\n",
       "    (9): MaxPool2d(kernel_size=2, stride=2, padding=0, dilation=1, ceil_mode=False)\n",
       "    (10): Conv2d(128, 256, kernel_size=(3, 3), stride=(1, 1), padding=(1, 1))\n",
       "    (11): ReLU(inplace)\n",
       "    (12): Conv2d(256, 256, kernel_size=(3, 3), stride=(1, 1), padding=(1, 1))\n",
       "    (13): ReLU(inplace)\n",
       "    (14): Conv2d(256, 256, kernel_size=(3, 3), stride=(1, 1), padding=(1, 1))\n",
       "    (15): ReLU(inplace)\n",
       "    (16): MaxPool2d(kernel_size=2, stride=2, padding=0, dilation=1, ceil_mode=False)\n",
       "    (17): Conv2d(256, 512, kernel_size=(3, 3), stride=(1, 1), padding=(1, 1))\n",
       "    (18): ReLU(inplace)\n",
       "    (19): Conv2d(512, 512, kernel_size=(3, 3), stride=(1, 1), padding=(1, 1))\n",
       "    (20): ReLU(inplace)\n",
       "    (21): Conv2d(512, 512, kernel_size=(3, 3), stride=(1, 1), padding=(1, 1))\n",
       "    (22): ReLU(inplace)\n",
       "    (23): MaxPool2d(kernel_size=2, stride=2, padding=0, dilation=1, ceil_mode=False)\n",
       "    (24): Conv2d(512, 512, kernel_size=(3, 3), stride=(1, 1), padding=(1, 1))\n",
       "    (25): ReLU(inplace)\n",
       "    (26): Conv2d(512, 512, kernel_size=(3, 3), stride=(1, 1), padding=(1, 1))\n",
       "    (27): ReLU(inplace)\n",
       "    (28): Conv2d(512, 512, kernel_size=(3, 3), stride=(1, 1), padding=(1, 1))\n",
       "    (29): ReLU(inplace)\n",
       "    (30): MaxPool2d(kernel_size=2, stride=2, padding=0, dilation=1, ceil_mode=False)\n",
       "  )\n",
       "  (classifier): Sequential(\n",
       "    (0): Linear(in_features=25088, out_features=4096, bias=True)\n",
       "    (1): ReLU(inplace)\n",
       "    (2): Dropout(p=0.5)\n",
       "    (3): Linear(in_features=4096, out_features=4096, bias=True)\n",
       "    (4): ReLU(inplace)\n",
       "    (5): Dropout(p=0.5)\n",
       "    (6): Linear(in_features=4096, out_features=1000, bias=True)\n",
       "  )\n",
       ")"
      ]
     },
     "execution_count": 14,
     "metadata": {},
     "output_type": "execute_result"
    }
   ],
   "source": [
    "##original architecture of the pre-trained network\n",
    "model"
   ]
  },
  {
   "cell_type": "code",
   "execution_count": 24,
   "metadata": {},
   "outputs": [],
   "source": [
    "for param in model.parameters():\n",
    "    param.requires_grad = False\n",
    "\n",
    "\n",
    "# reconstruct the classifer \n",
    "from collections import OrderedDict\n",
    "# classifier = nn.Sequential(OrderedDict([\n",
    "#                            ('fc1',nn.Linear(25088,5120)),\n",
    "#                            ('ReLu1',nn.ReLU()),\n",
    "#                            ('Dropout1',nn.Dropout(p=0.15)),\n",
    "#                            ('fc2',nn.Linear(5120,512)),\n",
    "#                            ('ReLu2',nn.ReLU()),\n",
    "#                            ('Dropout2',nn.Dropout(p=0.15)),\n",
    "#                            ('fc3',nn.Linear(512,102)),\n",
    "#                            ('output',nn.LogSoftmax(dim=1))\n",
    "#                            ]))\n",
    "\n",
    "\n",
    "\n",
    "classifier = nn.Sequential(OrderedDict([ \n",
    "                            ('dropout',nn.Dropout(0.5)), \n",
    "                            ('fc1',nn.Linear(25088, 1024)), \n",
    "                            ('relu', nn.ReLU()),                     \n",
    "                            ('fc2', nn.Linear(1024,516)), \n",
    "                            ('relu2', nn.ReLU()), \n",
    "                            ('fc3', nn.Linear(516,102)), \n",
    "                            ('output', nn.LogSoftmax(dim=1))\n",
    "                            ]))\n",
    "\n",
    "model.classifier = classifier\n",
    "\n",
    "\n",
    "\n"
   ]
  },
  {
   "cell_type": "code",
   "execution_count": 25,
   "metadata": {},
   "outputs": [
    {
     "data": {
      "text/plain": [
       "Sequential(\n",
       "  (dropout): Dropout(p=0.5)\n",
       "  (fc1): Linear(in_features=25088, out_features=1024, bias=True)\n",
       "  (relu): ReLU()\n",
       "  (fc2): Linear(in_features=1024, out_features=516, bias=True)\n",
       "  (relu2): ReLU()\n",
       "  (fc3): Linear(in_features=516, out_features=102, bias=True)\n",
       "  (output): LogSoftmax()\n",
       ")"
      ]
     },
     "execution_count": 25,
     "metadata": {},
     "output_type": "execute_result"
    }
   ],
   "source": [
    "classifier"
   ]
  },
  {
   "cell_type": "code",
   "execution_count": 26,
   "metadata": {},
   "outputs": [
    {
     "data": {
      "text/plain": [
       "VGG(\n",
       "  (features): Sequential(\n",
       "    (0): Conv2d(3, 64, kernel_size=(3, 3), stride=(1, 1), padding=(1, 1))\n",
       "    (1): ReLU(inplace)\n",
       "    (2): Conv2d(64, 64, kernel_size=(3, 3), stride=(1, 1), padding=(1, 1))\n",
       "    (3): ReLU(inplace)\n",
       "    (4): MaxPool2d(kernel_size=2, stride=2, padding=0, dilation=1, ceil_mode=False)\n",
       "    (5): Conv2d(64, 128, kernel_size=(3, 3), stride=(1, 1), padding=(1, 1))\n",
       "    (6): ReLU(inplace)\n",
       "    (7): Conv2d(128, 128, kernel_size=(3, 3), stride=(1, 1), padding=(1, 1))\n",
       "    (8): ReLU(inplace)\n",
       "    (9): MaxPool2d(kernel_size=2, stride=2, padding=0, dilation=1, ceil_mode=False)\n",
       "    (10): Conv2d(128, 256, kernel_size=(3, 3), stride=(1, 1), padding=(1, 1))\n",
       "    (11): ReLU(inplace)\n",
       "    (12): Conv2d(256, 256, kernel_size=(3, 3), stride=(1, 1), padding=(1, 1))\n",
       "    (13): ReLU(inplace)\n",
       "    (14): Conv2d(256, 256, kernel_size=(3, 3), stride=(1, 1), padding=(1, 1))\n",
       "    (15): ReLU(inplace)\n",
       "    (16): MaxPool2d(kernel_size=2, stride=2, padding=0, dilation=1, ceil_mode=False)\n",
       "    (17): Conv2d(256, 512, kernel_size=(3, 3), stride=(1, 1), padding=(1, 1))\n",
       "    (18): ReLU(inplace)\n",
       "    (19): Conv2d(512, 512, kernel_size=(3, 3), stride=(1, 1), padding=(1, 1))\n",
       "    (20): ReLU(inplace)\n",
       "    (21): Conv2d(512, 512, kernel_size=(3, 3), stride=(1, 1), padding=(1, 1))\n",
       "    (22): ReLU(inplace)\n",
       "    (23): MaxPool2d(kernel_size=2, stride=2, padding=0, dilation=1, ceil_mode=False)\n",
       "    (24): Conv2d(512, 512, kernel_size=(3, 3), stride=(1, 1), padding=(1, 1))\n",
       "    (25): ReLU(inplace)\n",
       "    (26): Conv2d(512, 512, kernel_size=(3, 3), stride=(1, 1), padding=(1, 1))\n",
       "    (27): ReLU(inplace)\n",
       "    (28): Conv2d(512, 512, kernel_size=(3, 3), stride=(1, 1), padding=(1, 1))\n",
       "    (29): ReLU(inplace)\n",
       "    (30): MaxPool2d(kernel_size=2, stride=2, padding=0, dilation=1, ceil_mode=False)\n",
       "  )\n",
       "  (classifier): Sequential(\n",
       "    (dropout): Dropout(p=0.5)\n",
       "    (fc1): Linear(in_features=25088, out_features=1024, bias=True)\n",
       "    (relu): ReLU()\n",
       "    (fc2): Linear(in_features=1024, out_features=516, bias=True)\n",
       "    (relu2): ReLU()\n",
       "    (fc3): Linear(in_features=516, out_features=102, bias=True)\n",
       "    (output): LogSoftmax()\n",
       "  )\n",
       ")"
      ]
     },
     "execution_count": 26,
     "metadata": {},
     "output_type": "execute_result"
    }
   ],
   "source": [
    "#check the updated architecture (e.g. network) for \n",
    "model"
   ]
  },
  {
   "cell_type": "code",
   "execution_count": 27,
   "metadata": {},
   "outputs": [],
   "source": [
    "criterion = nn.NLLLoss()\n",
    "\n",
    "\n",
    "#only trian the classifier parameters, feature parameters are frozen\n",
    "optimizer = optim.Adam(filter(lambda p: p.requires_grad, model.classifier.parameters()), lr = 0.05)\n",
    "# optimizer = optim.Adam(model.classifier.parameters(),lr=0.001)\n",
    "\n",
    "# model.to(device);\n",
    "device = torch.device(\"cuda\" if torch.cuda.is_available() else \"cpu\")   "
   ]
  },
  {
   "cell_type": "markdown",
   "metadata": {},
   "source": [
    "## Testing your network\n",
    "\n",
    "It's good practice to test your trained network on test data, images the network has never seen either in training or validation. This will give you a good estimate for the model's performance on completely new images. Run the test images through the network and measure the accuracy, the same way you did validation. You should be able to reach around 70% accuracy on the test set if the model has been trained well."
   ]
  },
  {
   "cell_type": "code",
   "execution_count": 28,
   "metadata": {},
   "outputs": [
    {
     "data": {
      "text/plain": [
       "[tensor([[[[-2.1179, -2.1179, -2.1179,  ..., -2.1179, -2.1179, -2.1179],\n",
       "           [-2.1179, -2.1179, -2.1179,  ..., -2.1179, -2.1179, -2.1179],\n",
       "           [-2.1179, -2.1179, -2.1179,  ..., -2.1179, -2.1179, -2.1179],\n",
       "           ...,\n",
       "           [-1.3644, -1.3987, -1.4500,  ...,  0.0741,  0.1254,  0.1083],\n",
       "           [-1.4329, -1.3815, -1.3302,  ..., -0.0287,  0.0569,  0.1597],\n",
       "           [-1.3644, -1.3130, -1.2103,  ...,  0.0227, -0.0116,  0.0912]],\n",
       " \n",
       "          [[-2.0357, -2.0357, -2.0357,  ..., -2.0357, -2.0357, -2.0357],\n",
       "           [-2.0357, -2.0357, -2.0357,  ..., -2.0357, -2.0357, -2.0357],\n",
       "           [-2.0357, -2.0357, -2.0357,  ..., -2.0357, -2.0357, -2.0357],\n",
       "           ...,\n",
       "           [-1.0553, -1.0203, -1.0203,  ...,  0.2227,  0.2752,  0.2577],\n",
       "           [-1.0903, -1.0028, -0.8978,  ...,  0.1176,  0.2052,  0.3102],\n",
       "           [-1.0203, -0.8978, -0.7752,  ...,  0.1702,  0.1352,  0.2402]],\n",
       " \n",
       "          [[-1.8044, -1.8044, -1.8044,  ..., -1.8044, -1.8044, -1.8044],\n",
       "           [-1.8044, -1.8044, -1.8044,  ..., -1.8044, -1.8044, -1.8044],\n",
       "           [-1.8044, -1.8044, -1.8044,  ..., -1.8044, -1.8044, -1.8044],\n",
       "           ...,\n",
       "           [-1.1770, -1.1596, -1.1944,  ...,  0.4788,  0.5311,  0.5136],\n",
       "           [-1.2119, -1.1421, -1.0724,  ...,  0.3742,  0.4614,  0.5659],\n",
       "           [-1.1596, -1.0724, -0.9504,  ...,  0.4265,  0.3916,  0.4962]]],\n",
       " \n",
       " \n",
       "         [[[-1.5014, -1.4672, -1.4843,  ..., -2.1179, -2.1179, -2.1179],\n",
       "           [-1.4843, -1.4843, -1.4672,  ..., -2.1179, -2.1179, -2.1179],\n",
       "           [-1.4843, -1.5185, -1.5014,  ..., -2.1179, -2.1179, -2.1179],\n",
       "           ...,\n",
       "           [ 2.2318,  2.1804,  2.1975,  ..., -0.2171, -0.1486, -0.1143],\n",
       "           [ 2.1804,  2.1633,  2.1975,  ..., -0.1657, -0.0972, -0.0801],\n",
       "           [ 2.1119,  2.1462,  2.1804,  ..., -0.1314, -0.0801, -0.0458]],\n",
       " \n",
       "          [[-1.2654, -1.2829, -1.3004,  ..., -2.0357, -2.0357, -2.0357],\n",
       "           [-1.2829, -1.2829, -1.2829,  ..., -2.0357, -2.0357, -2.0357],\n",
       "           [-1.2654, -1.2654, -1.2654,  ..., -2.0357, -2.0357, -2.0357],\n",
       "           ...,\n",
       "           [ 1.8683,  1.8333,  1.8508,  ...,  0.1001,  0.1352,  0.1702],\n",
       "           [ 1.9559,  1.9209,  1.9034,  ...,  0.1352,  0.2052,  0.2052],\n",
       "           [ 1.9559,  1.9384,  1.8859,  ...,  0.1702,  0.2052,  0.2402]],\n",
       " \n",
       "          [[-1.4559, -1.4559, -1.4733,  ..., -1.8044, -1.8044, -1.8044],\n",
       "           [-1.4559, -1.4733, -1.4559,  ..., -1.8044, -1.8044, -1.8044],\n",
       "           [-1.4733, -1.5081, -1.4907,  ..., -1.8044, -1.8044, -1.8044],\n",
       "           ...,\n",
       "           [-0.3404, -0.3578, -0.3753,  ..., -0.6715, -0.6193, -0.5670],\n",
       "           [-0.2010, -0.2358, -0.2881,  ..., -0.5670, -0.4624, -0.4275],\n",
       "           [-0.2010, -0.1835, -0.3055,  ..., -0.5147, -0.4275, -0.3404]]],\n",
       " \n",
       " \n",
       "         [[[-1.1589, -1.1418, -1.1589,  ..., -2.1179, -2.1179, -2.1179],\n",
       "           [-1.2274, -1.2274, -1.2274,  ..., -2.1179, -2.1179, -2.1179],\n",
       "           [-1.2445, -1.2617, -1.2617,  ..., -2.1179, -2.1179, -2.1179],\n",
       "           ...,\n",
       "           [-0.6965, -0.6794, -0.6452,  ..., -0.6794, -1.1418, -1.6898],\n",
       "           [-0.8678, -0.6794, -0.5424,  ..., -0.7993, -1.6213, -2.0665],\n",
       "           [-1.8953, -1.2788, -0.4739,  ..., -0.9877, -1.9638, -2.1179]],\n",
       " \n",
       "          [[-0.9853, -0.9153, -0.8978,  ..., -2.0357, -2.0357, -2.0357],\n",
       "           [-1.0378, -0.9853, -0.9328,  ..., -2.0357, -2.0357, -2.0357],\n",
       "           [-1.0203, -0.9853, -0.9328,  ..., -2.0357, -2.0357, -2.0357],\n",
       "           ...,\n",
       "           [-1.1078, -1.0903, -1.0553,  ..., -0.6001, -1.0553, -1.5980],\n",
       "           [-1.2129, -1.0553, -0.9328,  ..., -0.7227, -1.5280, -1.9832],\n",
       "           [-1.8957, -1.4405, -0.8277,  ..., -0.8803, -1.8782, -2.0357]],\n",
       " \n",
       "          [[-1.4036, -1.3687, -1.3687,  ..., -1.8044, -1.8044, -1.8044],\n",
       "           [-1.4559, -1.4384, -1.4036,  ..., -1.8044, -1.8044, -1.8044],\n",
       "           [-1.4384, -1.4210, -1.4036,  ..., -1.8044, -1.8044, -1.8044],\n",
       "           ...,\n",
       "           [-1.3339, -1.3164, -1.3164,  ..., -1.2990, -1.6127, -1.7173],\n",
       "           [-1.3861, -1.2990, -1.2990,  ..., -1.4559, -1.7522, -1.8044],\n",
       "           [-1.7347, -1.5256, -1.2990,  ..., -1.4559, -1.7522, -1.8044]]],\n",
       " \n",
       " \n",
       "         ...,\n",
       " \n",
       " \n",
       "         [[[-1.1932, -1.1589, -1.1418,  ...,  1.7694,  1.8208,  1.7865],\n",
       "           [-1.1760, -1.1589, -1.1589,  ...,  1.8037,  1.8722,  1.7694],\n",
       "           [-1.2103, -1.1932, -1.1760,  ...,  1.7352,  1.7694,  1.7865],\n",
       "           ...,\n",
       "           [-2.1179, -2.1179, -2.1008,  ..., -1.4500, -1.4500, -1.4500],\n",
       "           [-2.1179, -2.1179, -2.1179,  ..., -1.4500, -1.4500, -1.4500],\n",
       "           [-2.1179, -2.1179, -2.1179,  ..., -1.4500, -1.4500, -1.4329]],\n",
       " \n",
       "          [[-1.0553, -1.0203, -1.0028,  ...,  1.9559,  2.0084,  2.0084],\n",
       "           [-1.0378, -1.0203, -1.0203,  ...,  1.9909,  2.0609,  1.9559],\n",
       "           [-1.0728, -1.0553, -1.0378,  ...,  1.9209,  1.9559,  1.9734],\n",
       "           ...,\n",
       "           [-2.0357, -2.0357, -2.0182,  ..., -1.0553, -1.0553, -1.0553],\n",
       "           [-2.0357, -2.0357, -2.0357,  ..., -1.0553, -1.0553, -1.0553],\n",
       "           [-2.0357, -2.0357, -2.0357,  ..., -1.0553, -1.0553, -1.0378]],\n",
       " \n",
       "          [[-1.2467, -1.2119, -1.1944,  ...,  2.2391,  2.2914,  2.2740],\n",
       "           [-1.2293, -1.2119, -1.2119,  ...,  2.2740,  2.3437,  2.2391],\n",
       "           [-1.2641, -1.2467, -1.2293,  ...,  2.2043,  2.2391,  2.2566],\n",
       "           ...,\n",
       "           [-1.8044, -1.8044, -1.8044,  ..., -1.5953, -1.5953, -1.5953],\n",
       "           [-1.8044, -1.8044, -1.8044,  ..., -1.5953, -1.5953, -1.5953],\n",
       "           [-1.8044, -1.8044, -1.8044,  ..., -1.5953, -1.5953, -1.5779]]],\n",
       " \n",
       " \n",
       "         [[[-2.1179, -2.1179, -2.1179,  ..., -2.1179, -2.1179, -2.1179],\n",
       "           [-2.1179, -2.1179, -2.1179,  ..., -2.1179, -2.1179, -2.1179],\n",
       "           [-2.1179, -2.1179, -2.1179,  ..., -2.1179, -2.1179, -2.1179],\n",
       "           ...,\n",
       "           [-2.1179, -2.1179, -2.1179,  ..., -2.1179, -2.1179, -2.1179],\n",
       "           [-2.1179, -2.1179, -2.1179,  ..., -2.1179, -2.1179, -2.1179],\n",
       "           [-2.1179, -2.1179, -2.1179,  ..., -2.1179, -2.1179, -2.1179]],\n",
       " \n",
       "          [[-2.0357, -2.0357, -2.0357,  ..., -2.0357, -2.0357, -2.0357],\n",
       "           [-2.0357, -2.0357, -2.0357,  ..., -2.0357, -2.0357, -2.0357],\n",
       "           [-2.0357, -2.0357, -2.0357,  ..., -2.0357, -2.0357, -2.0357],\n",
       "           ...,\n",
       "           [-2.0357, -2.0357, -2.0357,  ..., -2.0357, -2.0357, -2.0357],\n",
       "           [-2.0357, -2.0357, -2.0357,  ..., -2.0357, -2.0357, -2.0357],\n",
       "           [-2.0357, -2.0357, -2.0357,  ..., -2.0357, -2.0357, -2.0357]],\n",
       " \n",
       "          [[-1.8044, -1.8044, -1.8044,  ..., -1.8044, -1.8044, -1.8044],\n",
       "           [-1.8044, -1.8044, -1.8044,  ..., -1.8044, -1.8044, -1.8044],\n",
       "           [-1.8044, -1.8044, -1.8044,  ..., -1.8044, -1.8044, -1.8044],\n",
       "           ...,\n",
       "           [-1.8044, -1.8044, -1.8044,  ..., -1.8044, -1.8044, -1.8044],\n",
       "           [-1.8044, -1.8044, -1.8044,  ..., -1.8044, -1.8044, -1.8044],\n",
       "           [-1.8044, -1.8044, -1.8044,  ..., -1.8044, -1.8044, -1.8044]]],\n",
       " \n",
       " \n",
       "         [[[-1.1418, -1.2103, -1.3473,  ..., -1.0733, -1.0904, -1.1247],\n",
       "           [-1.1418, -1.1932, -1.3644,  ..., -1.0904, -1.1075, -1.1247],\n",
       "           [-1.1247, -1.1760, -1.3130,  ..., -1.0904, -1.1075, -1.1075],\n",
       "           ...,\n",
       "           [-0.9534, -0.9705, -0.9363,  ..., -1.5528, -1.0219, -0.5253],\n",
       "           [-0.9705, -0.9705, -0.9363,  ..., -1.6042, -0.9877, -0.3883],\n",
       "           [-0.9877, -0.9705, -0.9192,  ..., -1.5357, -1.2617, -0.4054]],\n",
       " \n",
       "          [[-1.0553, -1.1253, -1.0728,  ..., -0.9328, -0.9503, -0.9853],\n",
       "           [-1.0553, -1.1078, -1.0378,  ..., -0.9503, -0.9678, -0.9853],\n",
       "           [-1.0378, -1.0728, -1.0553,  ..., -0.9503, -0.9678, -0.9678],\n",
       "           ...,\n",
       "           [ 0.1352,  0.1176,  0.1527,  ..., -1.3179, -0.4601,  0.1527],\n",
       "           [ 0.1176,  0.1176,  0.1527,  ..., -1.3880, -0.5126,  0.1702],\n",
       "           [ 0.1176,  0.1352,  0.1877,  ..., -1.3880, -0.9503,  0.0126]],\n",
       " \n",
       "          [[-0.9156, -0.9853, -0.9156,  ..., -0.7936, -0.8110, -0.8458],\n",
       "           [-0.9156, -0.9678, -0.9156,  ..., -0.8110, -0.8284, -0.8458],\n",
       "           [-0.8981, -0.9330, -0.9156,  ..., -0.8110, -0.8284, -0.8284],\n",
       "           ...,\n",
       "           [-0.4624, -0.5147, -0.4798,  ..., -1.5081, -0.9330, -0.3927],\n",
       "           [-0.4798, -0.4973, -0.4798,  ..., -1.5256, -0.8981, -0.2707],\n",
       "           [-0.5147, -0.4973, -0.4450,  ..., -1.4384, -1.1596, -0.2881]]]]),\n",
       " tensor([  96,   90,    8,   92,   76,   72,   73,   48,   43,   37,\n",
       "           56,   46,   66,   86,   51,   90,   73,   49,    5,   15,\n",
       "           51,   91,   68,   76,    7,   23,   33,   25,    6,   19,\n",
       "           11,   70,   26,   63,    3,   59,    4,   23,   82,    6,\n",
       "           55,  101,   53,   76,   49,   75,   51,   85,  100,   23,\n",
       "           26,   40,   82,   75,   43,   96,   10,   68,   49,   61,\n",
       "           37,   68,   65,   90])]"
      ]
     },
     "execution_count": 28,
     "metadata": {},
     "output_type": "execute_result"
    }
   ],
   "source": [
    "next(iter(trainloaders))"
   ]
  },
  {
   "cell_type": "code",
   "execution_count": 29,
   "metadata": {},
   "outputs": [],
   "source": [
    "# TODO: Do validation on the test set\n",
    "def model_train(model, trainloader, testloader, criterion, epochs, step, print_every, device):\n",
    "    running_loss = 0\n",
    "    steps = 0\n",
    "    model.to(device)\n",
    "    for epoch in range(epochs):\n",
    "        for inputs, labels in iter(trainloader):\n",
    "            steps += 1\n",
    "            inputs, labels = inputs.to(device), labels.to(device)\n",
    "            \n",
    "            optimizer.zero_grad()\n",
    "            \n",
    "            logps=model.forward(inputs)\n",
    "            loss = criterion(logps, labels)\n",
    "            loss.backward()\n",
    "            optimizer.step()\n",
    "            \n",
    "            running_loss += loss.item()\n",
    "            \n",
    "            if steps % print_every ==0:\n",
    "                test_loss = 0\n",
    "                accuracy = 0\n",
    "                model.eval()\n",
    "                \n",
    "                with torch.no_grad():\n",
    "                    for inputs, labels in iter(testloader):\n",
    "                        inputs, labels = inputs.to(device), labels.to(device)\n",
    "                        logps = model.forward(inputs)\n",
    "                        batch_loss = criterion(logps, labels)\n",
    "                        \n",
    "                        test_loss += batch_loss.item()\n",
    "                        \n",
    "                        #calculate accuracy\n",
    "                        ps=torch.exp(logps)\n",
    "                        top_p, top_class = ps.topk(1, dim=1)\n",
    "                        equals = top_class == labels.view(*top_class.shape)\n",
    "                        accuracy += torch.mean(equals.type(torch.FloatTensor)).item()\n",
    "                        \n",
    "                print(f\"Epoch {epoch+1}/{epochs}.. \"\n",
    "                      f\"Train loss: {running_loss/print_every:.3f}.. \"\n",
    "                      f\"Test loss: {test_loss/len(testloader):.3f}.. \"\n",
    "                      f\"Test accuracy: {accuracy/len(testloader):.3f}\")\n",
    "                \n",
    "                running_loss = 0"
   ]
  },
  {
   "cell_type": "code",
   "execution_count": 30,
   "metadata": {},
   "outputs": [
    {
     "name": "stdout",
     "output_type": "stream",
     "text": [
      "Epoch 1/5.. Train loss: 250.310.. Test loss: 4.553.. Test accuracy: 0.018\n",
      "Epoch 1/5.. Train loss: 5.888.. Test loss: 4.533.. Test accuracy: 0.029\n",
      "Epoch 2/5.. Train loss: 5.475.. Test loss: 4.525.. Test accuracy: 0.026\n",
      "Epoch 2/5.. Train loss: 5.678.. Test loss: 4.520.. Test accuracy: 0.029\n",
      "Epoch 2/5.. Train loss: 4.724.. Test loss: 4.516.. Test accuracy: 0.031\n",
      "Epoch 3/5.. Train loss: 4.530.. Test loss: 4.520.. Test accuracy: 0.025\n",
      "Epoch 3/5.. Train loss: 5.253.. Test loss: 4.511.. Test accuracy: 0.029\n",
      "Epoch 4/5.. Train loss: 4.525.. Test loss: 4.523.. Test accuracy: 0.029\n",
      "Epoch 4/5.. Train loss: 4.682.. Test loss: 4.516.. Test accuracy: 0.030\n",
      "Epoch 4/5.. Train loss: 5.387.. Test loss: 4.515.. Test accuracy: 0.029\n",
      "Epoch 5/5.. Train loss: 4.698.. Test loss: 4.531.. Test accuracy: 0.030\n",
      "Epoch 5/5.. Train loss: 4.618.. Test loss: 4.513.. Test accuracy: 0.030\n"
     ]
    }
   ],
   "source": [
    "model_train(model, trainloaders, testloaders, criterion, epochs=5, step=0, print_every=40, device=device)"
   ]
  },
  {
   "cell_type": "markdown",
   "metadata": {},
   "source": [
    "## Save the checkpoint\n",
    "\n",
    "Now that your network is trained, save the model so you can load it later for making predictions. You probably want to save other things such as the mapping of classes to indices which you get from one of the image datasets: `image_datasets['train'].class_to_idx`. You can attach this to the model as an attribute which makes inference easier later on.\n",
    "\n",
    "```model.class_to_idx = image_datasets['train'].class_to_idx```\n",
    "\n",
    "Remember that you'll want to completely rebuild the model later so you can use it for inference. Make sure to include any information you need in the checkpoint. If you want to load the model and keep training, you'll want to save the number of epochs as well as the optimizer state, `optimizer.state_dict`. You'll likely want to use this trained model in the next part of the project, so best to save it now."
   ]
  },
  {
   "cell_type": "code",
   "execution_count": null,
   "metadata": {},
   "outputs": [],
   "source": [
    "# TODO: Save the checkpoint\n",
    "def save_checkpoint(input_size, output_size, hidden_layers, dropout, class_to_idx, epochs, learning_rate, state_dict, optimizer):\n",
    "    checkpoint ={'input_size': input_size,\n",
    "                'output_size': output_size,\n",
    "                'hidden_layers': hidden_layers,\n",
    "                'dropout': dropout, \n",
    "                'mapping': class_to_idx,\n",
    "                 'epochs': epochs,\n",
    "                 'learning_rate': learning_rate\n",
    "                 'state_dict': model.classifier.state_dict()\n",
    "                 'optimizer': optimizer.state_dict()\n",
    "                }\n",
    "    torch.save(checkpoint, 'checkpoint.pth')\n"
   ]
  },
  {
   "cell_type": "code",
   "execution_count": null,
   "metadata": {},
   "outputs": [],
   "source": [
    "mapping=image_datasets['train'].class_to_idx\n",
    "hidden_layers = [each.out_feature for each in model.hidden_layers]\n",
    "\n",
    "save_checkpoint(input_size=25088, output_size=102,hidden_layers,dropout=0.15,class_to_idx=mapping, epochs=5  )"
   ]
  },
  {
   "cell_type": "markdown",
   "metadata": {},
   "source": [
    "## Loading the checkpoint\n",
    "\n",
    "At this point it's good to write a function that can load a checkpoint and rebuild the model. That way you can come back to this project and keep working on it without having to retrain the network."
   ]
  },
  {
   "cell_type": "code",
   "execution_count": null,
   "metadata": {},
   "outputs": [],
   "source": [
    "# TODO: Write a function that loads a checkpoint and rebuilds the model"
   ]
  },
  {
   "cell_type": "markdown",
   "metadata": {},
   "source": [
    "# Inference for classification\n",
    "\n",
    "Now you'll write a function to use a trained network for inference. That is, you'll pass an image into the network and predict the class of the flower in the image. Write a function called `predict` that takes an image and a model, then returns the top $K$ most likely classes along with the probabilities. It should look like \n",
    "\n",
    "```python\n",
    "probs, classes = predict(image_path, model)\n",
    "print(probs)\n",
    "print(classes)\n",
    "> [ 0.01558163  0.01541934  0.01452626  0.01443549  0.01407339]\n",
    "> ['70', '3', '45', '62', '55']\n",
    "```\n",
    "\n",
    "First you'll need to handle processing the input image such that it can be used in your network. \n",
    "\n",
    "## Image Preprocessing\n",
    "\n",
    "You'll want to use `PIL` to load the image ([documentation](https://pillow.readthedocs.io/en/latest/reference/Image.html)). It's best to write a function that preprocesses the image so it can be used as input for the model. This function should process the images in the same manner used for training. \n",
    "\n",
    "First, resize the images where the shortest side is 256 pixels, keeping the aspect ratio. This can be done with the [`thumbnail`](http://pillow.readthedocs.io/en/3.1.x/reference/Image.html#PIL.Image.Image.thumbnail) or [`resize`](http://pillow.readthedocs.io/en/3.1.x/reference/Image.html#PIL.Image.Image.thumbnail) methods. Then you'll need to crop out the center 224x224 portion of the image.\n",
    "\n",
    "Color channels of images are typically encoded as integers 0-255, but the model expected floats 0-1. You'll need to convert the values. It's easiest with a Numpy array, which you can get from a PIL image like so `np_image = np.array(pil_image)`.\n",
    "\n",
    "As before, the network expects the images to be normalized in a specific way. For the means, it's `[0.485, 0.456, 0.406]` and for the standard deviations `[0.229, 0.224, 0.225]`. You'll want to subtract the means from each color channel, then divide by the standard deviation. \n",
    "\n",
    "And finally, PyTorch expects the color channel to be the first dimension but it's the third dimension in the PIL image and Numpy array. You can reorder dimensions using [`ndarray.transpose`](https://docs.scipy.org/doc/numpy-1.13.0/reference/generated/numpy.ndarray.transpose.html). The color channel needs to be first and retain the order of the other two dimensions."
   ]
  },
  {
   "cell_type": "code",
   "execution_count": null,
   "metadata": {},
   "outputs": [],
   "source": [
    "def process_image(image):\n",
    "    ''' Scales, crops, and normalizes a PIL image for a PyTorch model,\n",
    "        returns an Numpy array\n",
    "    '''\n",
    "    \n",
    "    # TODO: Process a PIL image for use in a PyTorch model"
   ]
  },
  {
   "cell_type": "markdown",
   "metadata": {},
   "source": [
    "To check your work, the function below converts a PyTorch tensor and displays it in the notebook. If your `process_image` function works, running the output through this function should return the original image (except for the cropped out portions)."
   ]
  },
  {
   "cell_type": "code",
   "execution_count": null,
   "metadata": {},
   "outputs": [],
   "source": [
    "def imshow(image, ax=None, title=None):\n",
    "    \"\"\"Imshow for Tensor.\"\"\"\n",
    "    if ax is None:\n",
    "        fig, ax = plt.subplots()\n",
    "    \n",
    "    # PyTorch tensors assume the color channel is the first dimension\n",
    "    # but matplotlib assumes is the third dimension\n",
    "    image = image.numpy().transpose((1, 2, 0))\n",
    "    \n",
    "    # Undo preprocessing\n",
    "    mean = np.array([0.485, 0.456, 0.406])\n",
    "    std = np.array([0.229, 0.224, 0.225])\n",
    "    image = std * image + mean\n",
    "    \n",
    "    # Image needs to be clipped between 0 and 1 or it looks like noise when displayed\n",
    "    image = np.clip(image, 0, 1)\n",
    "    \n",
    "    ax.imshow(image)\n",
    "    \n",
    "    return ax"
   ]
  },
  {
   "cell_type": "markdown",
   "metadata": {},
   "source": [
    "## Class Prediction\n",
    "\n",
    "Once you can get images in the correct format, it's time to write a function for making predictions with your model. A common practice is to predict the top 5 or so (usually called top-$K$) most probable classes. You'll want to calculate the class probabilities then find the $K$ largest values.\n",
    "\n",
    "To get the top $K$ largest values in a tensor use [`x.topk(k)`](http://pytorch.org/docs/master/torch.html#torch.topk). This method returns both the highest `k` probabilities and the indices of those probabilities corresponding to the classes. You need to convert from these indices to the actual class labels using `class_to_idx` which hopefully you added to the model or from an `ImageFolder` you used to load the data ([see here](#Save-the-checkpoint)). Make sure to invert the dictionary so you get a mapping from index to class as well.\n",
    "\n",
    "Again, this method should take a path to an image and a model checkpoint, then return the probabilities and classes.\n",
    "\n",
    "```python\n",
    "probs, classes = predict(image_path, model)\n",
    "print(probs)\n",
    "print(classes)\n",
    "> [ 0.01558163  0.01541934  0.01452626  0.01443549  0.01407339]\n",
    "> ['70', '3', '45', '62', '55']\n",
    "```"
   ]
  },
  {
   "cell_type": "code",
   "execution_count": null,
   "metadata": {},
   "outputs": [],
   "source": [
    "def predict(image_path, model, topk=5):\n",
    "    ''' Predict the class (or classes) of an image using a trained deep learning model.\n",
    "    '''\n",
    "    \n",
    "    # TODO: Implement the code to predict the class from an image file"
   ]
  },
  {
   "cell_type": "markdown",
   "metadata": {},
   "source": [
    "## Sanity Checking\n",
    "\n",
    "Now that you can use a trained model for predictions, check to make sure it makes sense. Even if the testing accuracy is high, it's always good to check that there aren't obvious bugs. Use `matplotlib` to plot the probabilities for the top 5 classes as a bar graph, along with the input image. It should look like this:\n",
    "\n",
    "<img src='assets/inference_example.png' width=300px>\n",
    "\n",
    "You can convert from the class integer encoding to actual flower names with the `cat_to_name.json` file (should have been loaded earlier in the notebook). To show a PyTorch tensor as an image, use the `imshow` function defined above."
   ]
  },
  {
   "cell_type": "code",
   "execution_count": null,
   "metadata": {},
   "outputs": [],
   "source": [
    "# TODO: Display an image along with the top 5 classes"
   ]
  }
 ],
 "metadata": {
  "kernelspec": {
   "display_name": "Python 3",
   "language": "python",
   "name": "python3"
  },
  "language_info": {
   "codemirror_mode": {
    "name": "ipython",
    "version": 3
   },
   "file_extension": ".py",
   "mimetype": "text/x-python",
   "name": "python",
   "nbconvert_exporter": "python",
   "pygments_lexer": "ipython3",
   "version": "3.6.3"
  }
 },
 "nbformat": 4,
 "nbformat_minor": 2
}
